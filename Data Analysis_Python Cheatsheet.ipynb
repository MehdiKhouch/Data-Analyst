{
 "cells": [
  {
   "cell_type": "markdown",
   "id": "ad5b8b9e-9231-4b8d-8ee9-892a114b96b1",
   "metadata": {},
   "source": [
    "## Cheatsheet - Data Analyst "
   ]
  },
  {
   "cell_type": "markdown",
   "id": "05486ff9-8904-4f28-ad40-a6aa06cb33ce",
   "metadata": {},
   "source": [
    "### Library "
   ]
  },
  {
   "cell_type": "code",
   "execution_count": 1,
   "id": "3d24618d-425d-4101-b59d-092ea7e692b5",
   "metadata": {},
   "outputs": [],
   "source": [
    "import pandas as pd\n",
    "import numpy as np\n",
    "import matplotlib.pyplot as plt\n",
    "import seaborn as sns\n",
    "from sklearn.model_selection import train_test_split\n",
    "from sklearn.linear_model import LinearRegression\n",
    "from sklearn.metrics import mean_squared_error, r2_score\n"
   ]
  },
  {
   "cell_type": "markdown",
   "id": "0ad3ceb3-091f-4cdc-b4b8-56fca2eb7365",
   "metadata": {},
   "source": [
    "### Data Manipulation "
   ]
  },
  {
   "cell_type": "markdown",
   "id": "011d955b-a86c-4c53-883e-295dea04f732",
   "metadata": {},
   "source": [
    "#### 1. Read files"
   ]
  },
  {
   "cell_type": "code",
   "execution_count": null,
   "id": "a7935250-5fa9-4ba9-a504-f2f56d8bc617",
   "metadata": {},
   "outputs": [],
   "source": [
    "df = pd.read_csv('file.csv')\n",
    "df = pd.read_excel('file.xlsx')\n",
    "df = pd.read_json('file.json')\n",
    "\n",
    "def read_data(file_path):\n",
    "    return pd.read_excel(file_path)"
   ]
  },
  {
   "cell_type": "markdown",
   "id": "46edd01f-93b3-40de-8e91-306bfd9cdfb6",
   "metadata": {},
   "source": [
    "#### 2. Data Information "
   ]
  },
  {
   "cell_type": "code",
   "execution_count": null,
   "id": "8d988ba6-4607-40c4-838d-bde405b73b4c",
   "metadata": {},
   "outputs": [],
   "source": [
    "df.head() \n",
    "df.info() \n",
    "df.describe()  "
   ]
  },
  {
   "cell_type": "markdown",
   "id": "d20c83d5-dae0-4bd2-88f2-2a0b8fb5a18b",
   "metadata": {},
   "source": [
    "#### 3. Data Cleaning"
   ]
  },
  {
   "cell_type": "code",
   "execution_count": null,
   "id": "1f8d1e5f-fc84-46da-9cb9-426766b40638",
   "metadata": {},
   "outputs": [],
   "source": [
    "df.dropna()  \n",
    "df.fillna(value) #Fills in missing values\n",
    "df.drop_duplicates() \n",
    "df['column'] = df['column'].str.strip()  #Remove spaces"
   ]
  },
  {
   "cell_type": "markdown",
   "id": "c5e4b06e-b1b9-4f05-a9d4-d39f426dd1d1",
   "metadata": {},
   "source": [
    "#### 4. Column manipulation "
   ]
  },
  {
   "cell_type": "code",
   "execution_count": null,
   "id": "ce0e6575-8702-4db5-92e1-b2708daf894f",
   "metadata": {},
   "outputs": [],
   "source": [
    "df['new_column'] = df['column1'] + df['column2']  \n",
    "df.rename(columns={'old_name': 'new_name'})  \n",
    "df['date'] = pd.to_datetime(df['date'])  #Datetime conversion"
   ]
  },
  {
   "cell_type": "markdown",
   "id": "c492b6f8-9f5d-4ae3-86a0-222241972fb0",
   "metadata": {},
   "source": [
    "#### 5. Filtering and selection"
   ]
  },
  {
   "cell_type": "code",
   "execution_count": null,
   "id": "b5248c8b-d2ab-4897-8c2b-d9c0464a60d9",
   "metadata": {},
   "outputs": [],
   "source": [
    "df_filtered = df[df['column'] > value]\n",
    "df_selected = df[['column1', 'column2']]"
   ]
  },
  {
   "cell_type": "markdown",
   "id": "e7d528c9-1633-45c6-9aae-b7fac38ec547",
   "metadata": {},
   "source": [
    "#### 6. Aggregation and grouping"
   ]
  },
  {
   "cell_type": "code",
   "execution_count": null,
   "id": "6d9ee794-fd95-4b1e-8983-fde358b0d74a",
   "metadata": {},
   "outputs": [],
   "source": [
    "df_grouped = df.groupby('column').agg({'column1': 'sum', 'column2': 'mean'})\n",
    "df_pivot = df.pivot_table(index='column1', columns='column2', values='column3', aggfunc='sum')"
   ]
  },
  {
   "cell_type": "markdown",
   "id": "a0a5a43e-d5eb-4012-931d-0ecbac4d5d2e",
   "metadata": {},
   "source": [
    "#### 7. Merging and joining"
   ]
  },
  {
   "cell_type": "code",
   "execution_count": null,
   "id": "92158580-e3d2-4384-a4ba-97fd06356be9",
   "metadata": {},
   "outputs": [],
   "source": [
    "df_merged = pd.merge(df1, df2, on='common_column', how='inner')\n",
    "df_concatenated = pd.concat([df1, df2])"
   ]
  }
 ],
 "metadata": {
  "kernelspec": {
   "display_name": "Python 3 (ipykernel)",
   "language": "python",
   "name": "python3"
  },
  "language_info": {
   "codemirror_mode": {
    "name": "ipython",
    "version": 3
   },
   "file_extension": ".py",
   "mimetype": "text/x-python",
   "name": "python",
   "nbconvert_exporter": "python",
   "pygments_lexer": "ipython3",
   "version": "3.11.7"
  }
 },
 "nbformat": 4,
 "nbformat_minor": 5
}
