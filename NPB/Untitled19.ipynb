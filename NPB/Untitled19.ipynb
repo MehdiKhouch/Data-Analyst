{
 "cells": [
  {
   "cell_type": "code",
   "execution_count": null,
   "id": "803deaca-3108-4221-800d-106b486e075a",
   "metadata": {},
   "outputs": [],
   "source": [
    "During the NPB 2022 season, a young japanese infielder broke a lot of records at just 22 years old. His name is Munetaka Murakami, the Tokyo Yakult Swallows' third base. \n",
    "\n",
    "In 2022, he scored 56 homeruns, a record for a Japanese baseball player. Even <u><a href=\"https://en.wikipedia.org/wiki/Sadaharu_Oh\">Sadaharu Oh</a></u>, the best NPB player of all time, had never scored so many homeruns. During this season, his team broke many offensive records and reached to in Japan Series (a losing final against Orix Buffaloes).\n",
    "\n",
    "During the 2023 World Baseball Championship, Murakami scored the final point against <u><a href=\"https://www.youtube.com/watch?v=bW4p5zHct9A\">Mexico</a></u> to gave his country victory in the semi-finals. In final against USA, his scored a wonderful <u><a href=\"https://www.youtube.com/watch?v=-UFn3t__8jI\">Homerun</a></u> and won the World Cup with the \"Samurai Japan\".\n",
    "\n",
    "Thanks to this performance, many MLB recruters were impressed by his level and potential and a bright future in the big American league seems promised. But since this 2023 World Baseball Championship, the Murakami's performance has been deceiving. \n",
    "\n",
    "In this analyse, we will try <b> to evaluate de Murakami level and his future prospects in MLB</b>. We will start to analyse its first 5 seasons  NPB season and compare them with those of former Japanese stars who joined the MLB. We are going to look at the player's strengths and weaknesses. We will also look at his rise and fall since the start of 2023. Finally, let's find out what kind of level Murakami could aspire to in MLB."
   ]
  }
 ],
 "metadata": {
  "kernelspec": {
   "display_name": "Python 3 (ipykernel)",
   "language": "python",
   "name": "python3"
  },
  "language_info": {
   "codemirror_mode": {
    "name": "ipython",
    "version": 3
   },
   "file_extension": ".py",
   "mimetype": "text/x-python",
   "name": "python",
   "nbconvert_exporter": "python",
   "pygments_lexer": "ipython3",
   "version": "3.11.7"
  }
 },
 "nbformat": 4,
 "nbformat_minor": 5
}
